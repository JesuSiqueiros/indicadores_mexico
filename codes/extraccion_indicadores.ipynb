{
 "cells": [
  {
   "cell_type": "markdown",
   "metadata": {},
   "source": [
    "## Extraccion de indicadores"
   ]
  },
  {
   "cell_type": "code",
   "execution_count": 1,
   "metadata": {},
   "outputs": [],
   "source": [
    "#### Token \n",
    "inegi_token = \"e95782ac-6182-a3f8-e1fe-aa1dc1d9fe49\""
   ]
  },
  {
   "cell_type": "markdown",
   "metadata": {},
   "source": [
    "#### Librerias"
   ]
  },
  {
   "cell_type": "code",
   "execution_count": 3,
   "metadata": {},
   "outputs": [],
   "source": [
    "# import data\n",
    "import requests\n",
    "\n",
    "# data manipulation\n",
    "import pandas as pd"
   ]
  },
  {
   "cell_type": "code",
   "execution_count": 4,
   "metadata": {},
   "outputs": [],
   "source": [
    "# Se carga el nombre de los Estados\n",
    "states = pd.read_csv(r\"C:\\Users\\jesiq\\Documents\\Repositorios Github\\indicadores_mexico\\data\\states.csv\", sep=\",\")[\"states\"]"
   ]
  },
  {
   "cell_type": "markdown",
   "metadata": {},
   "source": [
    "#### Banco de Información Economica"
   ]
  },
  {
   "cell_type": "markdown",
   "metadata": {},
   "source": [
    "* ### Producto Interno Bruto por Entidad Federativa"
   ]
  },
  {
   "cell_type": "code",
   "execution_count": null,
   "metadata": {},
   "outputs": [],
   "source": [
    "# Se genera al Dataframe vacio\n",
    "df_states = pd.DataFrame()\n",
    "\n",
    "# Extraccion por Entidad Federativa\n",
    "# Iteración a través de los estados y sus códigos\n",
    "for state_code, state_name in zip(range(7000001, 7000032), states):\n",
    "    try:\n",
    "        # Solicitud de datos a la API de INEGI\n",
    "        api_url = f\"https://www.inegi.org.mx/app/api/indicadores/desarrolladores/jsonxml/INDICATOR/6200093960/es/0{state_code}/false/BISE/2.0/{inegi_token}?type=json\"\n",
    "        response = requests.get(api_url)\n",
    "        response.raise_for_status()  # Lanza un error si el código de estado no es 200\n",
    "\n",
    "        # Procesamiento de la respuesta y normalización de los datos\n",
    "        data = response.json()[\"Series\"]\n",
    "        df = pd.json_normalize(data, \"OBSERVATIONS\")\n",
    "        df[\"state\"] = state_name  # Añadir columna con el nombre del estado\n",
    "\n",
    "        # Concatenación de los datos en el DataFrame principal\n",
    "        pea_df = pd.concat([pea_df, df], ignore_index=True)\n",
    "\n",
    "    except requests.RequestException as e:\n",
    "        print(f\"Error fetching data for {state_name}: {e}\")"
   ]
  },
  {
   "cell_type": "code",
   "execution_count": 5,
   "metadata": {},
   "outputs": [],
   "source": [
    "# Se crea un dataframe vacio\n",
    "df_states = pd.DataFrame()\n",
    "\n",
    "# Se extrae los valores para cada Estado\n",
    "for state, name_state in zip(range(746098,746129 +1), states):\n",
    "    with urllib.request.urlopen(f'https://www.inegi.org.mx/app/api/indicadores/desarrolladores/jsonxml/INDICATOR/{state}/es/0700/false/BIE/2.0/{inegi_token}?type=json') as url:\n",
    "        data = json.load(url)\n",
    "        df = pd.json_normalize(data[\"Series\"], \"OBSERVATIONS\").rename(columns={\"OBS_VALUE\":\"PIB\", \"COBER_GEO\":\"state\"})\n",
    "        df[\"state\"] = name_state\n",
    "        df_states = pd.concat([df_states, df])"
   ]
  },
  {
   "cell_type": "markdown",
   "metadata": {},
   "source": [
    "* ### Indice de precio al consumidor "
   ]
  },
  {
   "cell_type": "code",
   "execution_count": 6,
   "metadata": {},
   "outputs": [],
   "source": [
    "with urllib.request.urlopen(f\"https://www.inegi.org.mx/app/api/indicadores/desarrolladores/jsonxml/INDICATOR/910392/es/0700/false/BIE/2.0/{inegi_token}?type=json\") as url:\n",
    "    data = json.load(url)\n",
    "    ipc = pd.json_normalize(data[\"Series\"], \"OBSERVATIONS\")"
   ]
  },
  {
   "cell_type": "markdown",
   "metadata": {},
   "source": [
    "* Empleo\n",
    "\n",
    "    * Poblacion Económicamente Activa"
   ]
  },
  {
   "cell_type": "code",
   "execution_count": 40,
   "metadata": {},
   "outputs": [],
   "source": [
    "# DataFrame inicial vacío\n",
    "pea_df = pd.DataFrame()\n",
    "\n",
    "# Iteración a través de los estados y sus códigos\n",
    "for state_code, state_name in zip(range(7000001, 7000032), states):\n",
    "    try:\n",
    "        # Solicitud de datos a la API de INEGI\n",
    "        api_url = f\"https://www.inegi.org.mx/app/api/indicadores/desarrolladores/jsonxml/INDICATOR/6200093960/es/0{state_code}/false/BISE/2.0/{inegi_token}?type=json\"\n",
    "        response = requests.get(api_url)\n",
    "        response.raise_for_status()  # Lanza un error si el código de estado no es 200\n",
    "\n",
    "        # Procesamiento de la respuesta y normalización de los datos\n",
    "        data = response.json()[\"Series\"]\n",
    "        df = pd.json_normalize(data, \"OBSERVATIONS\")\n",
    "        df[\"state\"] = state_name  # Añadir columna con el nombre del estado\n",
    "\n",
    "        # Concatenación de los datos en el DataFrame principal\n",
    "        pea_df = pd.concat([pea_df, df], ignore_index=True)\n",
    "\n",
    "    except requests.RequestException as e:\n",
    "        print(f\"Error fetching data for {state_name}: {e}\")"
   ]
  },
  {
   "cell_type": "markdown",
   "metadata": {},
   "source": [
    "*    Poblacion Económicamente no Activa"
   ]
  },
  {
   "cell_type": "code",
   "execution_count": 42,
   "metadata": {},
   "outputs": [],
   "source": [
    "# DataFrame inicial vacío\n",
    "pena_df = pd.DataFrame()\n",
    "\n",
    "# Iteración a través de los estados y sus códigos\n",
    "for state_code, state_name in zip(range(7000001, 7000033), states):\n",
    "    try:\n",
    "        # Solicitud de datos a la API de INEGI\n",
    "        api_url = f\"https://www.inegi.org.mx/app/api/indicadores/desarrolladores/jsonxml/INDICATOR/6200093973/es/0{state_code}/true/BISE/2.0/{inegi_token}?type=json\"\n",
    "        response = requests.get(api_url)\n",
    "        response.raise_for_status()  # Lanza un error si el código de estado no es 200\n",
    "\n",
    "        # Procesamiento de la respuesta y normalización de los datos\n",
    "        data = response.json()[\"Series\"]\n",
    "        df = pd.json_normalize(data, \"OBSERVATIONS\")\n",
    "        df[\"state\"] = state_name  # Añadir columna con el nombre del estado\n",
    "\n",
    "        # Concatenación de los datos en el DataFrame principal\n",
    "        pea_df = pd.concat([pea_df, df], ignore_index=True)\n",
    "\n",
    "    except requests.RequestException as e:\n",
    "        print(f\"Error fetching data for {state_name}: {e}\")"
   ]
  },
  {
   "cell_type": "code",
   "execution_count": null,
   "metadata": {},
   "outputs": [],
   "source": [
    "https://www.inegi.org.mx/app/api/indicadores/desarrolladores/jsonxml/INDICATOR/6200093960/es/0700/false/BISE/2.0/[Aquí va tu Token]?type=json\n",
    "\n",
    "https://www.inegi.org.mx/app/api/indicadores/desarrolladores/jsonxml/INDICATOR/6200093960/es/07000001/false/BISE/2.0/[Aquí va tu Token]?type=json\n",
    "\n",
    "no activa\n",
    "  https://www.inegi.org.mx/app/api/indicadores/desarrolladores/jsonxml/INDICATOR/6200093973/es/07000001/true/BISE/2.0/[Aquí va tu Token]?type=json"
   ]
  },
  {
   "cell_type": "code",
   "execution_count": 28,
   "metadata": {},
   "outputs": [
    {
     "name": "stdout",
     "output_type": "stream",
     "text": [
      "10\n"
     ]
    }
   ],
   "source": [
    "x = 10\n",
    "try:\n",
    "    print(x)\n",
    "except:\n",
    "    print(\"an exeption ocured\")"
   ]
  }
 ],
 "metadata": {
  "kernelspec": {
   "display_name": "base",
   "language": "python",
   "name": "python3"
  },
  "language_info": {
   "codemirror_mode": {
    "name": "ipython",
    "version": 3
   },
   "file_extension": ".py",
   "mimetype": "text/x-python",
   "name": "python",
   "nbconvert_exporter": "python",
   "pygments_lexer": "ipython3",
   "version": "3.12.4"
  }
 },
 "nbformat": 4,
 "nbformat_minor": 2
}
