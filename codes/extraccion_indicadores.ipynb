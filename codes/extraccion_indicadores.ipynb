{
 "cells": [
  {
   "cell_type": "markdown",
   "metadata": {},
   "source": [
    "## Extraccion de indicadores"
   ]
  },
  {
   "cell_type": "markdown",
   "metadata": {},
   "source": [
    "#### Librerias"
   ]
  },
  {
   "cell_type": "code",
   "execution_count": 29,
   "metadata": {},
   "outputs": [],
   "source": [
    "# import data\n",
    "import urllib.request, json \n",
    "\n",
    "# data manipulation\n",
    "import pandas as pd"
   ]
  },
  {
   "cell_type": "code",
   "execution_count": 44,
   "metadata": {},
   "outputs": [],
   "source": [
    "# Se carga el nombre de los Estados\n",
    "states = pd.read_csv(r\"C:\\Users\\jesiq\\Documents\\Repositorios Github\\indicadores_mexico\\data\\states.csv\", sep=\",\")[\"states\"]"
   ]
  },
  {
   "cell_type": "markdown",
   "metadata": {},
   "source": [
    "#### Banco de Información Economica"
   ]
  },
  {
   "cell_type": "markdown",
   "metadata": {},
   "source": [
    "* Producto Interno Bruto por Entidad Federativa"
   ]
  },
  {
   "cell_type": "code",
   "execution_count": 47,
   "metadata": {},
   "outputs": [],
   "source": [
    "# Se crea un dataframe vacio\n",
    "df_states = pd.DataFrame()\n",
    "\n",
    "# Se extrae los valores para cada Estado\n",
    "for state, name_state in zip(range(746098,746129 +1), states):\n",
    "    with urllib.request.urlopen(f'https://www.inegi.org.mx/app/api/indicadores/desarrolladores/jsonxml/INDICATOR/{state}/es/0700/false/BIE/2.0/e95782ac-6182-a3f8-e1fe-aa1dc1d9fe49?type=json') as url:\n",
    "        data = json.load(url)\n",
    "        df = pd.json_normalize(data[\"Series\"], \"OBSERVATIONS\").rename(columns={\"OBS_VALUE\":\"PIB\", \"COBER_GEO\":\"state\"})\n",
    "        df[\"state\"] = name_state\n",
    "        df_states = pd.concat([df_states, df])"
   ]
  },
  {
   "cell_type": "markdown",
   "metadata": {},
   "source": [
    "* Indice de precio al consumidor "
   ]
  },
  {
   "cell_type": "code",
   "execution_count": null,
   "metadata": {},
   "outputs": [],
   "source": [
    "pd.read_csv(\"  https://www.inegi.org.mx/app/api/indicadores/desarrolladores/jsonxml/INDICATOR/910392/es/0700/false/BIE/2.0/[Aquí va tu Token]?type=json\")"
   ]
  }
 ],
 "metadata": {
  "kernelspec": {
   "display_name": "base",
   "language": "python",
   "name": "python3"
  },
  "language_info": {
   "codemirror_mode": {
    "name": "ipython",
    "version": 3
   },
   "file_extension": ".py",
   "mimetype": "text/x-python",
   "name": "python",
   "nbconvert_exporter": "python",
   "pygments_lexer": "ipython3",
   "version": "3.12.4"
  }
 },
 "nbformat": 4,
 "nbformat_minor": 2
}
